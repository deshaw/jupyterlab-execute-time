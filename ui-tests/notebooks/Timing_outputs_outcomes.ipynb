{
 "cells": [
  {
   "cell_type": "markdown",
   "id": "98ce2d4e-e422-40ea-aa89-5adabbb8d0f0",
   "metadata": {},
   "source": [
    "Notes:\n",
    "- Each cells is self-contained to allow parallel testing.\n",
    "- Cell indices are used in tests."
   ]
  },
  {
   "cell_type": "markdown",
   "id": "f28cb5ea-94a4-47d3-9860-4cf20a29d690",
   "metadata": {},
   "source": [
    "#### Last executed at with outputs:"
   ]
  },
  {
   "cell_type": "code",
   "execution_count": null,
   "id": "3cfa2867-8f80-4793-9a4d-d773b06136e1",
   "metadata": {},
   "outputs": [],
   "source": [
    "for i in range(5):\n",
    "    display(1)\n",
    "    sleep(0.01)"
   ]
  }
 ],
 "metadata": {
  "kernelspec": {
   "display_name": "Python 3 (ipykernel)",
   "language": "python",
   "name": "python3"
  },
  "language_info": {
   "codemirror_mode": {
    "name": "ipython",
    "version": 3
   },
   "file_extension": ".py",
   "mimetype": "text/x-python",
   "name": "python",
   "nbconvert_exporter": "python",
   "pygments_lexer": "ipython3",
   "version": "3.11.9"
  }
 },
 "nbformat": 4,
 "nbformat_minor": 5
}

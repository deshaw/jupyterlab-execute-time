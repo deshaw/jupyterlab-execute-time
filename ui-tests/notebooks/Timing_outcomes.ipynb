{
 "cells": [
  {
   "cell_type": "markdown",
   "id": "98ce2d4e-e422-40ea-aa89-5adabbb8d0f0",
   "metadata": {},
   "source": [
    "Notes:\n",
    "- Each cells is self-contained to allow parallel testing.\n",
    "- Cells were collected in one notebook to reduce notebook upload overhead.\n",
    "- Cell indices are used in tests."
   ]
  },
  {
   "cell_type": "markdown",
   "id": "4bf31c7c-ca89-421f-a617-4bba07d27054",
   "metadata": {},
   "source": [
    "#### Execution started at (live progress, needs longer time):"
   ]
  },
  {
   "cell_type": "code",
   "execution_count": null,
   "id": "2ab9d6c2-7963-490e-a1e9-f4190b099f47",
   "metadata": {},
   "outputs": [],
   "source": [
    "from time import sleep\n",
    "sleep(5)"
   ]
  },
  {
   "cell_type": "markdown",
   "id": "f28cb5ea-94a4-47d3-9860-4cf20a29d690",
   "metadata": {},
   "source": [
    "#### Last executed at:"
   ]
  },
  {
   "cell_type": "code",
   "execution_count": null,
   "id": "3cfa2867-8f80-4793-9a4d-d773b06136e1",
   "metadata": {},
   "outputs": [],
   "source": [
    "from time import sleep\n",
    "sleep(0.01)"
   ]
  },
  {
   "cell_type": "markdown",
   "id": "09793dea-c9f9-40f1-8353-bfc34ba16242",
   "metadata": {},
   "source": [
    "#### Failed:"
   ]
  },
  {
   "cell_type": "code",
   "execution_count": null,
   "id": "4d9d6725-090c-41df-8ca9-587af1f1bac7",
   "metadata": {},
   "outputs": [],
   "source": [
    "import os\n",
    "os.system(f\"kill {os.getpid()}\")"
   ]
  }
 ],
 "metadata": {
  "kernelspec": {
   "display_name": "Python 3 (ipykernel)",
   "language": "python",
   "name": "python3"
  },
  "language_info": {
   "codemirror_mode": {
    "name": "ipython",
    "version": 3
   },
   "file_extension": ".py",
   "mimetype": "text/x-python",
   "name": "python",
   "nbconvert_exporter": "python",
   "pygments_lexer": "ipython3",
   "version": "3.11.4"
  }
 },
 "nbformat": 4,
 "nbformat_minor": 5
}

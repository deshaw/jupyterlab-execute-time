{
 "cells": [
  {
   "cell_type": "code",
   "execution_count": null,
   "id": "e6ba4d4d-2fc5-480d-8f6b-d80e44f51dda",
   "metadata": {},
   "outputs": [],
   "source": [
    "from time import sleep"
   ]
  },
  {
   "cell_type": "code",
   "execution_count": null,
   "id": "ec671046-8e9f-409e-8b8e-708154c0ac10",
   "metadata": {},
   "outputs": [],
   "source": [
    "sleep(0.01)"
   ]
  },
  {
   "cell_type": "code",
   "execution_count": null,
   "id": "000acc20-b975-49b0-905a-b3b11fbfb349",
   "metadata": {},
   "outputs": [],
   "source": [
    "sleep(0.01)"
   ]
  }
 ],
 "metadata": {
  "kernelspec": {
   "display_name": "Python 3 (ipykernel)",
   "language": "python",
   "name": "python3"
  },
  "language_info": {
   "codemirror_mode": {
    "name": "ipython",
    "version": 3
   },
   "file_extension": ".py",
   "mimetype": "text/x-python",
   "name": "python",
   "nbconvert_exporter": "python",
   "pygments_lexer": "ipython3",
   "version": "3.11.4"
  }
 },
 "nbformat": 4,
 "nbformat_minor": 5
}

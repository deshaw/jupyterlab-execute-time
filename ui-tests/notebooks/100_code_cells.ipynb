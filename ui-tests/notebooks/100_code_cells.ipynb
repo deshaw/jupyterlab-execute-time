{
 "cells": [
  {
   "cell_type": "markdown",
   "id": "c5347ad8-7ab6-4774-a320-41c1d89d1a41",
   "metadata": {},
   "source": [
    "This notebook has 100 code cells and takes ~1 second to execute."
   ]
  },
  {
   "cell_type": "code",
   "execution_count": 1,
   "id": "e3c2df25",
   "metadata": {
    "execution": {
     "iopub.execute_input": "2023-11-04T13:49:59.682832Z",
     "iopub.status.busy": "2023-11-04T13:49:59.682562Z",
     "iopub.status.idle": "2023-11-04T13:49:59.694860Z",
     "shell.execute_reply": "2023-11-04T13:49:59.693446Z",
     "shell.execute_reply.started": "2023-11-04T13:49:59.682797Z"
    }
   },
   "outputs": [],
   "source": [
    "from time import sleep\n",
    "\n",
    "def f(i):\n",
    "    sleep(0.01)"
   ]
  },
  {
   "cell_type": "code",
   "execution_count": 2,
   "id": "295a39c3",
   "metadata": {
    "execution": {
     "iopub.execute_input": "2023-11-04T13:49:59.697623Z",
     "iopub.status.busy": "2023-11-04T13:49:59.696668Z",
     "iopub.status.idle": "2023-11-04T13:49:59.716920Z",
     "shell.execute_reply": "2023-11-04T13:49:59.716301Z",
     "shell.execute_reply.started": "2023-11-04T13:49:59.697594Z"
    }
   },
   "outputs": [],
   "source": [
    "f(2)"
   ]
  },
  {
   "cell_type": "code",
   "execution_count": 3,
   "id": "74030551",
   "metadata": {
    "execution": {
     "iopub.execute_input": "2023-11-04T13:49:59.717941Z",
     "iopub.status.busy": "2023-11-04T13:49:59.717717Z",
     "iopub.status.idle": "2023-11-04T13:49:59.730735Z",
     "shell.execute_reply": "2023-11-04T13:49:59.730081Z",
     "shell.execute_reply.started": "2023-11-04T13:49:59.717917Z"
    }
   },
   "outputs": [],
   "source": [
    "f(3)"
   ]
  },
  {
   "cell_type": "code",
   "execution_count": 4,
   "id": "1eb42db0",
   "metadata": {
    "execution": {
     "iopub.execute_input": "2023-11-04T13:49:59.731735Z",
     "iopub.status.busy": "2023-11-04T13:49:59.731518Z",
     "iopub.status.idle": "2023-11-04T13:49:59.744757Z",
     "shell.execute_reply": "2023-11-04T13:49:59.743977Z",
     "shell.execute_reply.started": "2023-11-04T13:49:59.731711Z"
    }
   },
   "outputs": [],
   "source": [
    "f(4)"
   ]
  },
  {
   "cell_type": "code",
   "execution_count": 5,
   "id": "7257bfa3",
   "metadata": {
    "execution": {
     "iopub.execute_input": "2023-11-04T13:49:59.746111Z",
     "iopub.status.busy": "2023-11-04T13:49:59.745782Z",
     "iopub.status.idle": "2023-11-04T13:49:59.759361Z",
     "shell.execute_reply": "2023-11-04T13:49:59.758470Z",
     "shell.execute_reply.started": "2023-11-04T13:49:59.746074Z"
    }
   },
   "outputs": [],
   "source": [
    "f(5)"
   ]
  },
  {
   "cell_type": "code",
   "execution_count": 6,
   "id": "269a2b54",
   "metadata": {
    "execution": {
     "iopub.execute_input": "2023-11-04T13:49:59.760678Z",
     "iopub.status.busy": "2023-11-04T13:49:59.760377Z",
     "iopub.status.idle": "2023-11-04T13:49:59.774401Z",
     "shell.execute_reply": "2023-11-04T13:49:59.773298Z",
     "shell.execute_reply.started": "2023-11-04T13:49:59.760638Z"
    }
   },
   "outputs": [],
   "source": [
    "f(6)"
   ]
  },
  {
   "cell_type": "code",
   "execution_count": 7,
   "id": "14d4b449",
   "metadata": {
    "execution": {
     "iopub.execute_input": "2023-11-04T13:49:59.777996Z",
     "iopub.status.busy": "2023-11-04T13:49:59.777760Z",
     "iopub.status.idle": "2023-11-04T13:49:59.791232Z",
     "shell.execute_reply": "2023-11-04T13:49:59.790447Z",
     "shell.execute_reply.started": "2023-11-04T13:49:59.777972Z"
    }
   },
   "outputs": [],
   "source": [
    "f(7)"
   ]
  },
  {
   "cell_type": "code",
   "execution_count": 8,
   "id": "874364db",
   "metadata": {
    "execution": {
     "iopub.execute_input": "2023-11-04T13:49:59.792552Z",
     "iopub.status.busy": "2023-11-04T13:49:59.792260Z",
     "iopub.status.idle": "2023-11-04T13:49:59.805914Z",
     "shell.execute_reply": "2023-11-04T13:49:59.805079Z",
     "shell.execute_reply.started": "2023-11-04T13:49:59.792518Z"
    }
   },
   "outputs": [],
   "source": [
    "f(8)"
   ]
  },
  {
   "cell_type": "code",
   "execution_count": 9,
   "id": "fceff67f",
   "metadata": {
    "execution": {
     "iopub.execute_input": "2023-11-04T13:49:59.807363Z",
     "iopub.status.busy": "2023-11-04T13:49:59.806890Z",
     "iopub.status.idle": "2023-11-04T13:49:59.820207Z",
     "shell.execute_reply": "2023-11-04T13:49:59.819570Z",
     "shell.execute_reply.started": "2023-11-04T13:49:59.807335Z"
    }
   },
   "outputs": [],
   "source": [
    "f(9)"
   ]
  },
  {
   "cell_type": "code",
   "execution_count": 10,
   "id": "ca6d3e02",
   "metadata": {
    "execution": {
     "iopub.execute_input": "2023-11-04T13:49:59.821745Z",
     "iopub.status.busy": "2023-11-04T13:49:59.821518Z",
     "iopub.status.idle": "2023-11-04T13:49:59.835119Z",
     "shell.execute_reply": "2023-11-04T13:49:59.834129Z",
     "shell.execute_reply.started": "2023-11-04T13:49:59.821723Z"
    }
   },
   "outputs": [],
   "source": [
    "f(10)"
   ]
  },
  {
   "cell_type": "code",
   "execution_count": 11,
   "id": "3a65b7b4",
   "metadata": {
    "execution": {
     "iopub.execute_input": "2023-11-04T13:49:59.836281Z",
     "iopub.status.busy": "2023-11-04T13:49:59.836011Z",
     "iopub.status.idle": "2023-11-04T13:49:59.849454Z",
     "shell.execute_reply": "2023-11-04T13:49:59.848719Z",
     "shell.execute_reply.started": "2023-11-04T13:49:59.836256Z"
    }
   },
   "outputs": [],
   "source": [
    "f(11)"
   ]
  },
  {
   "cell_type": "code",
   "execution_count": 12,
   "id": "8bdb64d4",
   "metadata": {
    "execution": {
     "iopub.execute_input": "2023-11-04T13:49:59.851883Z",
     "iopub.status.busy": "2023-11-04T13:49:59.850914Z",
     "iopub.status.idle": "2023-11-04T13:49:59.865334Z",
     "shell.execute_reply": "2023-11-04T13:49:59.864448Z",
     "shell.execute_reply.started": "2023-11-04T13:49:59.851853Z"
    }
   },
   "outputs": [],
   "source": [
    "f(12)"
   ]
  },
  {
   "cell_type": "code",
   "execution_count": 13,
   "id": "311a0b71",
   "metadata": {
    "execution": {
     "iopub.execute_input": "2023-11-04T13:49:59.866978Z",
     "iopub.status.busy": "2023-11-04T13:49:59.866381Z",
     "iopub.status.idle": "2023-11-04T13:49:59.881119Z",
     "shell.execute_reply": "2023-11-04T13:49:59.880101Z",
     "shell.execute_reply.started": "2023-11-04T13:49:59.866946Z"
    }
   },
   "outputs": [],
   "source": [
    "f(13)"
   ]
  },
  {
   "cell_type": "code",
   "execution_count": 14,
   "id": "09f88f22",
   "metadata": {
    "execution": {
     "iopub.execute_input": "2023-11-04T13:49:59.882335Z",
     "iopub.status.busy": "2023-11-04T13:49:59.882065Z",
     "iopub.status.idle": "2023-11-04T13:49:59.895270Z",
     "shell.execute_reply": "2023-11-04T13:49:59.894589Z",
     "shell.execute_reply.started": "2023-11-04T13:49:59.882306Z"
    }
   },
   "outputs": [],
   "source": [
    "f(14)"
   ]
  },
  {
   "cell_type": "code",
   "execution_count": 15,
   "id": "89a45ee5",
   "metadata": {
    "execution": {
     "iopub.execute_input": "2023-11-04T13:49:59.896379Z",
     "iopub.status.busy": "2023-11-04T13:49:59.896144Z",
     "iopub.status.idle": "2023-11-04T13:49:59.909575Z",
     "shell.execute_reply": "2023-11-04T13:49:59.908864Z",
     "shell.execute_reply.started": "2023-11-04T13:49:59.896354Z"
    }
   },
   "outputs": [],
   "source": [
    "f(15)"
   ]
  },
  {
   "cell_type": "code",
   "execution_count": 16,
   "id": "d1fab684",
   "metadata": {
    "execution": {
     "iopub.execute_input": "2023-11-04T13:49:59.910752Z",
     "iopub.status.busy": "2023-11-04T13:49:59.910495Z",
     "iopub.status.idle": "2023-11-04T13:49:59.924096Z",
     "shell.execute_reply": "2023-11-04T13:49:59.923369Z",
     "shell.execute_reply.started": "2023-11-04T13:49:59.910726Z"
    }
   },
   "outputs": [],
   "source": [
    "f(16)"
   ]
  },
  {
   "cell_type": "code",
   "execution_count": 17,
   "id": "e3ab2c9e",
   "metadata": {
    "execution": {
     "iopub.execute_input": "2023-11-04T13:49:59.926061Z",
     "iopub.status.busy": "2023-11-04T13:49:59.925452Z",
     "iopub.status.idle": "2023-11-04T13:49:59.939445Z",
     "shell.execute_reply": "2023-11-04T13:49:59.938694Z",
     "shell.execute_reply.started": "2023-11-04T13:49:59.926034Z"
    }
   },
   "outputs": [],
   "source": [
    "f(17)"
   ]
  },
  {
   "cell_type": "code",
   "execution_count": 18,
   "id": "206a85da",
   "metadata": {
    "execution": {
     "iopub.execute_input": "2023-11-04T13:49:59.941072Z",
     "iopub.status.busy": "2023-11-04T13:49:59.940509Z",
     "iopub.status.idle": "2023-11-04T13:49:59.954189Z",
     "shell.execute_reply": "2023-11-04T13:49:59.953480Z",
     "shell.execute_reply.started": "2023-11-04T13:49:59.941015Z"
    }
   },
   "outputs": [],
   "source": [
    "f(18)"
   ]
  },
  {
   "cell_type": "code",
   "execution_count": 19,
   "id": "f142ef41",
   "metadata": {
    "execution": {
     "iopub.execute_input": "2023-11-04T13:49:59.955643Z",
     "iopub.status.busy": "2023-11-04T13:49:59.955401Z",
     "iopub.status.idle": "2023-11-04T13:49:59.968467Z",
     "shell.execute_reply": "2023-11-04T13:49:59.967820Z",
     "shell.execute_reply.started": "2023-11-04T13:49:59.955619Z"
    }
   },
   "outputs": [],
   "source": [
    "f(19)"
   ]
  },
  {
   "cell_type": "code",
   "execution_count": 20,
   "id": "386a10e8",
   "metadata": {
    "execution": {
     "iopub.execute_input": "2023-11-04T13:49:59.970248Z",
     "iopub.status.busy": "2023-11-04T13:49:59.969566Z",
     "iopub.status.idle": "2023-11-04T13:49:59.983709Z",
     "shell.execute_reply": "2023-11-04T13:49:59.983053Z",
     "shell.execute_reply.started": "2023-11-04T13:49:59.970211Z"
    }
   },
   "outputs": [],
   "source": [
    "f(20)"
   ]
  },
  {
   "cell_type": "code",
   "execution_count": 21,
   "id": "8e23d292",
   "metadata": {
    "execution": {
     "iopub.execute_input": "2023-11-04T13:49:59.985457Z",
     "iopub.status.busy": "2023-11-04T13:49:59.984784Z",
     "iopub.status.idle": "2023-11-04T13:49:59.999114Z",
     "shell.execute_reply": "2023-11-04T13:49:59.998383Z",
     "shell.execute_reply.started": "2023-11-04T13:49:59.985420Z"
    }
   },
   "outputs": [],
   "source": [
    "f(21)"
   ]
  },
  {
   "cell_type": "code",
   "execution_count": 22,
   "id": "e594a513",
   "metadata": {
    "execution": {
     "iopub.execute_input": "2023-11-04T13:50:00.007510Z",
     "iopub.status.busy": "2023-11-04T13:50:00.007260Z",
     "iopub.status.idle": "2023-11-04T13:50:00.020471Z",
     "shell.execute_reply": "2023-11-04T13:50:00.019853Z",
     "shell.execute_reply.started": "2023-11-04T13:50:00.007486Z"
    }
   },
   "outputs": [],
   "source": [
    "f(22)"
   ]
  },
  {
   "cell_type": "code",
   "execution_count": 23,
   "id": "62eeafe7",
   "metadata": {
    "execution": {
     "iopub.execute_input": "2023-11-04T13:50:00.022279Z",
     "iopub.status.busy": "2023-11-04T13:50:00.021979Z",
     "iopub.status.idle": "2023-11-04T13:50:00.035406Z",
     "shell.execute_reply": "2023-11-04T13:50:00.034728Z",
     "shell.execute_reply.started": "2023-11-04T13:50:00.022248Z"
    }
   },
   "outputs": [],
   "source": [
    "f(23)"
   ]
  },
  {
   "cell_type": "code",
   "execution_count": 24,
   "id": "1fb1b881",
   "metadata": {
    "execution": {
     "iopub.execute_input": "2023-11-04T13:50:00.036599Z",
     "iopub.status.busy": "2023-11-04T13:50:00.036380Z",
     "iopub.status.idle": "2023-11-04T13:50:00.049559Z",
     "shell.execute_reply": "2023-11-04T13:50:00.048900Z",
     "shell.execute_reply.started": "2023-11-04T13:50:00.036577Z"
    }
   },
   "outputs": [],
   "source": [
    "f(24)"
   ]
  },
  {
   "cell_type": "code",
   "execution_count": 25,
   "id": "48c9197d",
   "metadata": {
    "execution": {
     "iopub.execute_input": "2023-11-04T13:50:00.050787Z",
     "iopub.status.busy": "2023-11-04T13:50:00.050575Z",
     "iopub.status.idle": "2023-11-04T13:50:00.063802Z",
     "shell.execute_reply": "2023-11-04T13:50:00.062949Z",
     "shell.execute_reply.started": "2023-11-04T13:50:00.050764Z"
    }
   },
   "outputs": [],
   "source": [
    "f(25)"
   ]
  },
  {
   "cell_type": "code",
   "execution_count": 26,
   "id": "4be46d98",
   "metadata": {
    "execution": {
     "iopub.execute_input": "2023-11-04T13:50:00.065015Z",
     "iopub.status.busy": "2023-11-04T13:50:00.064792Z",
     "iopub.status.idle": "2023-11-04T13:50:00.077964Z",
     "shell.execute_reply": "2023-11-04T13:50:00.077290Z",
     "shell.execute_reply.started": "2023-11-04T13:50:00.064991Z"
    }
   },
   "outputs": [],
   "source": [
    "f(26)"
   ]
  },
  {
   "cell_type": "code",
   "execution_count": 27,
   "id": "2fab3bfa",
   "metadata": {
    "execution": {
     "iopub.execute_input": "2023-11-04T13:50:00.078987Z",
     "iopub.status.busy": "2023-11-04T13:50:00.078777Z",
     "iopub.status.idle": "2023-11-04T13:50:00.092146Z",
     "shell.execute_reply": "2023-11-04T13:50:00.091324Z",
     "shell.execute_reply.started": "2023-11-04T13:50:00.078965Z"
    }
   },
   "outputs": [],
   "source": [
    "f(27)"
   ]
  },
  {
   "cell_type": "code",
   "execution_count": 28,
   "id": "17ef4fe7",
   "metadata": {
    "execution": {
     "iopub.execute_input": "2023-11-04T13:50:00.093371Z",
     "iopub.status.busy": "2023-11-04T13:50:00.093119Z",
     "iopub.status.idle": "2023-11-04T13:50:00.106532Z",
     "shell.execute_reply": "2023-11-04T13:50:00.105737Z",
     "shell.execute_reply.started": "2023-11-04T13:50:00.093347Z"
    }
   },
   "outputs": [],
   "source": [
    "f(28)"
   ]
  },
  {
   "cell_type": "code",
   "execution_count": 29,
   "id": "43615532",
   "metadata": {
    "execution": {
     "iopub.execute_input": "2023-11-04T13:50:00.108082Z",
     "iopub.status.busy": "2023-11-04T13:50:00.107458Z",
     "iopub.status.idle": "2023-11-04T13:50:00.121561Z",
     "shell.execute_reply": "2023-11-04T13:50:00.120550Z",
     "shell.execute_reply.started": "2023-11-04T13:50:00.108048Z"
    }
   },
   "outputs": [],
   "source": [
    "f(29)"
   ]
  },
  {
   "cell_type": "code",
   "execution_count": 30,
   "id": "18a37619",
   "metadata": {
    "execution": {
     "iopub.execute_input": "2023-11-04T13:50:00.122770Z",
     "iopub.status.busy": "2023-11-04T13:50:00.122549Z",
     "iopub.status.idle": "2023-11-04T13:50:00.135668Z",
     "shell.execute_reply": "2023-11-04T13:50:00.135002Z",
     "shell.execute_reply.started": "2023-11-04T13:50:00.122748Z"
    }
   },
   "outputs": [],
   "source": [
    "f(30)"
   ]
  },
  {
   "cell_type": "code",
   "execution_count": 31,
   "id": "3a53c2ed",
   "metadata": {
    "execution": {
     "iopub.execute_input": "2023-11-04T13:50:00.136764Z",
     "iopub.status.busy": "2023-11-04T13:50:00.136547Z",
     "iopub.status.idle": "2023-11-04T13:50:00.149814Z",
     "shell.execute_reply": "2023-11-04T13:50:00.148952Z",
     "shell.execute_reply.started": "2023-11-04T13:50:00.136741Z"
    }
   },
   "outputs": [],
   "source": [
    "f(31)"
   ]
  },
  {
   "cell_type": "code",
   "execution_count": 32,
   "id": "4d8b10dd",
   "metadata": {
    "execution": {
     "iopub.execute_input": "2023-11-04T13:50:00.151027Z",
     "iopub.status.busy": "2023-11-04T13:50:00.150731Z",
     "iopub.status.idle": "2023-11-04T13:50:00.164255Z",
     "shell.execute_reply": "2023-11-04T13:50:00.163380Z",
     "shell.execute_reply.started": "2023-11-04T13:50:00.150998Z"
    }
   },
   "outputs": [],
   "source": [
    "f(32)"
   ]
  },
  {
   "cell_type": "code",
   "execution_count": 33,
   "id": "5af04729",
   "metadata": {
    "execution": {
     "iopub.execute_input": "2023-11-04T13:50:00.165510Z",
     "iopub.status.busy": "2023-11-04T13:50:00.165247Z",
     "iopub.status.idle": "2023-11-04T13:50:00.178325Z",
     "shell.execute_reply": "2023-11-04T13:50:00.177680Z",
     "shell.execute_reply.started": "2023-11-04T13:50:00.165485Z"
    }
   },
   "outputs": [],
   "source": [
    "f(33)"
   ]
  },
  {
   "cell_type": "code",
   "execution_count": 34,
   "id": "f655f69c",
   "metadata": {
    "execution": {
     "iopub.execute_input": "2023-11-04T13:50:00.179508Z",
     "iopub.status.busy": "2023-11-04T13:50:00.179255Z",
     "iopub.status.idle": "2023-11-04T13:50:00.192505Z",
     "shell.execute_reply": "2023-11-04T13:50:00.191852Z",
     "shell.execute_reply.started": "2023-11-04T13:50:00.179482Z"
    }
   },
   "outputs": [],
   "source": [
    "f(34)"
   ]
  },
  {
   "cell_type": "code",
   "execution_count": 35,
   "id": "ba32a5c6",
   "metadata": {
    "execution": {
     "iopub.execute_input": "2023-11-04T13:50:00.194121Z",
     "iopub.status.busy": "2023-11-04T13:50:00.193883Z",
     "iopub.status.idle": "2023-11-04T13:50:00.207243Z",
     "shell.execute_reply": "2023-11-04T13:50:00.206423Z",
     "shell.execute_reply.started": "2023-11-04T13:50:00.194097Z"
    }
   },
   "outputs": [],
   "source": [
    "f(35)"
   ]
  },
  {
   "cell_type": "code",
   "execution_count": 36,
   "id": "ee220335",
   "metadata": {
    "execution": {
     "iopub.execute_input": "2023-11-04T13:50:00.209288Z",
     "iopub.status.busy": "2023-11-04T13:50:00.208233Z",
     "iopub.status.idle": "2023-11-04T13:50:00.223854Z",
     "shell.execute_reply": "2023-11-04T13:50:00.222540Z",
     "shell.execute_reply.started": "2023-11-04T13:50:00.209230Z"
    }
   },
   "outputs": [],
   "source": [
    "f(36)"
   ]
  },
  {
   "cell_type": "code",
   "execution_count": 37,
   "id": "b0a5c174",
   "metadata": {
    "execution": {
     "iopub.execute_input": "2023-11-04T13:50:00.225954Z",
     "iopub.status.busy": "2023-11-04T13:50:00.225299Z",
     "iopub.status.idle": "2023-11-04T13:50:00.239549Z",
     "shell.execute_reply": "2023-11-04T13:50:00.238557Z",
     "shell.execute_reply.started": "2023-11-04T13:50:00.225919Z"
    }
   },
   "outputs": [],
   "source": [
    "f(37)"
   ]
  },
  {
   "cell_type": "code",
   "execution_count": 38,
   "id": "46a6d700",
   "metadata": {
    "execution": {
     "iopub.execute_input": "2023-11-04T13:50:00.240972Z",
     "iopub.status.busy": "2023-11-04T13:50:00.240518Z",
     "iopub.status.idle": "2023-11-04T13:50:00.253909Z",
     "shell.execute_reply": "2023-11-04T13:50:00.253216Z",
     "shell.execute_reply.started": "2023-11-04T13:50:00.240717Z"
    }
   },
   "outputs": [],
   "source": [
    "f(38)"
   ]
  },
  {
   "cell_type": "code",
   "execution_count": 39,
   "id": "ccf44856",
   "metadata": {
    "execution": {
     "iopub.execute_input": "2023-11-04T13:50:00.255439Z",
     "iopub.status.busy": "2023-11-04T13:50:00.254872Z",
     "iopub.status.idle": "2023-11-04T13:50:00.269046Z",
     "shell.execute_reply": "2023-11-04T13:50:00.268282Z",
     "shell.execute_reply.started": "2023-11-04T13:50:00.255402Z"
    }
   },
   "outputs": [],
   "source": [
    "f(39)"
   ]
  },
  {
   "cell_type": "code",
   "execution_count": 40,
   "id": "78c3b175",
   "metadata": {
    "execution": {
     "iopub.execute_input": "2023-11-04T13:50:00.270840Z",
     "iopub.status.busy": "2023-11-04T13:50:00.270327Z",
     "iopub.status.idle": "2023-11-04T13:50:00.285985Z",
     "shell.execute_reply": "2023-11-04T13:50:00.285019Z",
     "shell.execute_reply.started": "2023-11-04T13:50:00.270805Z"
    }
   },
   "outputs": [],
   "source": [
    "f(40)"
   ]
  },
  {
   "cell_type": "code",
   "execution_count": 41,
   "id": "16de3b4c",
   "metadata": {
    "execution": {
     "iopub.execute_input": "2023-11-04T13:50:00.287164Z",
     "iopub.status.busy": "2023-11-04T13:50:00.286941Z",
     "iopub.status.idle": "2023-11-04T13:50:00.300480Z",
     "shell.execute_reply": "2023-11-04T13:50:00.299740Z",
     "shell.execute_reply.started": "2023-11-04T13:50:00.287140Z"
    }
   },
   "outputs": [],
   "source": [
    "f(41)"
   ]
  },
  {
   "cell_type": "code",
   "execution_count": 42,
   "id": "a22cf62c",
   "metadata": {
    "execution": {
     "iopub.execute_input": "2023-11-04T13:50:00.301579Z",
     "iopub.status.busy": "2023-11-04T13:50:00.301342Z",
     "iopub.status.idle": "2023-11-04T13:50:00.315392Z",
     "shell.execute_reply": "2023-11-04T13:50:00.314559Z",
     "shell.execute_reply.started": "2023-11-04T13:50:00.301554Z"
    }
   },
   "outputs": [],
   "source": [
    "f(42)"
   ]
  },
  {
   "cell_type": "code",
   "execution_count": 43,
   "id": "f0e2db05",
   "metadata": {
    "execution": {
     "iopub.execute_input": "2023-11-04T13:50:00.317248Z",
     "iopub.status.busy": "2023-11-04T13:50:00.316518Z",
     "iopub.status.idle": "2023-11-04T13:50:00.330955Z",
     "shell.execute_reply": "2023-11-04T13:50:00.330050Z",
     "shell.execute_reply.started": "2023-11-04T13:50:00.317214Z"
    }
   },
   "outputs": [],
   "source": [
    "f(43)"
   ]
  },
  {
   "cell_type": "code",
   "execution_count": 44,
   "id": "61363dc4",
   "metadata": {
    "execution": {
     "iopub.execute_input": "2023-11-04T13:50:00.332414Z",
     "iopub.status.busy": "2023-11-04T13:50:00.332082Z",
     "iopub.status.idle": "2023-11-04T13:50:00.346236Z",
     "shell.execute_reply": "2023-11-04T13:50:00.345422Z",
     "shell.execute_reply.started": "2023-11-04T13:50:00.332378Z"
    }
   },
   "outputs": [],
   "source": [
    "f(44)"
   ]
  },
  {
   "cell_type": "code",
   "execution_count": 45,
   "id": "37af9429",
   "metadata": {
    "execution": {
     "iopub.execute_input": "2023-11-04T13:50:00.348408Z",
     "iopub.status.busy": "2023-11-04T13:50:00.348080Z",
     "iopub.status.idle": "2023-11-04T13:50:00.361849Z",
     "shell.execute_reply": "2023-11-04T13:50:00.361065Z",
     "shell.execute_reply.started": "2023-11-04T13:50:00.348371Z"
    }
   },
   "outputs": [],
   "source": [
    "f(45)"
   ]
  },
  {
   "cell_type": "code",
   "execution_count": 46,
   "id": "786fd431",
   "metadata": {
    "execution": {
     "iopub.execute_input": "2023-11-04T13:50:00.363474Z",
     "iopub.status.busy": "2023-11-04T13:50:00.362825Z",
     "iopub.status.idle": "2023-11-04T13:50:00.376890Z",
     "shell.execute_reply": "2023-11-04T13:50:00.375926Z",
     "shell.execute_reply.started": "2023-11-04T13:50:00.363445Z"
    }
   },
   "outputs": [],
   "source": [
    "f(46)"
   ]
  },
  {
   "cell_type": "code",
   "execution_count": 47,
   "id": "d363d7c1",
   "metadata": {
    "execution": {
     "iopub.execute_input": "2023-11-04T13:50:00.378139Z",
     "iopub.status.busy": "2023-11-04T13:50:00.377905Z",
     "iopub.status.idle": "2023-11-04T13:50:00.391985Z",
     "shell.execute_reply": "2023-11-04T13:50:00.390823Z",
     "shell.execute_reply.started": "2023-11-04T13:50:00.378116Z"
    }
   },
   "outputs": [],
   "source": [
    "f(47)"
   ]
  },
  {
   "cell_type": "code",
   "execution_count": 48,
   "id": "55d1d3dd",
   "metadata": {
    "execution": {
     "iopub.execute_input": "2023-11-04T13:50:00.393747Z",
     "iopub.status.busy": "2023-11-04T13:50:00.393396Z",
     "iopub.status.idle": "2023-11-04T13:50:00.407186Z",
     "shell.execute_reply": "2023-11-04T13:50:00.406340Z",
     "shell.execute_reply.started": "2023-11-04T13:50:00.393710Z"
    }
   },
   "outputs": [],
   "source": [
    "f(48)"
   ]
  },
  {
   "cell_type": "code",
   "execution_count": 49,
   "id": "3fd5443d",
   "metadata": {
    "execution": {
     "iopub.execute_input": "2023-11-04T13:50:00.408476Z",
     "iopub.status.busy": "2023-11-04T13:50:00.408196Z",
     "iopub.status.idle": "2023-11-04T13:50:00.421571Z",
     "shell.execute_reply": "2023-11-04T13:50:00.420785Z",
     "shell.execute_reply.started": "2023-11-04T13:50:00.408446Z"
    }
   },
   "outputs": [],
   "source": [
    "f(49)"
   ]
  },
  {
   "cell_type": "code",
   "execution_count": 50,
   "id": "fba20fe0",
   "metadata": {
    "execution": {
     "iopub.execute_input": "2023-11-04T13:50:00.422883Z",
     "iopub.status.busy": "2023-11-04T13:50:00.422612Z",
     "iopub.status.idle": "2023-11-04T13:50:00.435874Z",
     "shell.execute_reply": "2023-11-04T13:50:00.435245Z",
     "shell.execute_reply.started": "2023-11-04T13:50:00.422857Z"
    }
   },
   "outputs": [],
   "source": [
    "f(50)"
   ]
  },
  {
   "cell_type": "code",
   "execution_count": 51,
   "id": "a7c48900",
   "metadata": {
    "execution": {
     "iopub.execute_input": "2023-11-04T13:50:00.436906Z",
     "iopub.status.busy": "2023-11-04T13:50:00.436686Z",
     "iopub.status.idle": "2023-11-04T13:50:00.449999Z",
     "shell.execute_reply": "2023-11-04T13:50:00.449170Z",
     "shell.execute_reply.started": "2023-11-04T13:50:00.436883Z"
    }
   },
   "outputs": [],
   "source": [
    "f(51)"
   ]
  },
  {
   "cell_type": "code",
   "execution_count": 52,
   "id": "6285987d",
   "metadata": {
    "execution": {
     "iopub.execute_input": "2023-11-04T13:50:00.451371Z",
     "iopub.status.busy": "2023-11-04T13:50:00.451008Z",
     "iopub.status.idle": "2023-11-04T13:50:00.464486Z",
     "shell.execute_reply": "2023-11-04T13:50:00.463715Z",
     "shell.execute_reply.started": "2023-11-04T13:50:00.451346Z"
    }
   },
   "outputs": [],
   "source": [
    "f(52)"
   ]
  },
  {
   "cell_type": "code",
   "execution_count": 53,
   "id": "ce05cf20",
   "metadata": {
    "execution": {
     "iopub.execute_input": "2023-11-04T13:50:00.465972Z",
     "iopub.status.busy": "2023-11-04T13:50:00.465411Z",
     "iopub.status.idle": "2023-11-04T13:50:00.478912Z",
     "shell.execute_reply": "2023-11-04T13:50:00.478253Z",
     "shell.execute_reply.started": "2023-11-04T13:50:00.465946Z"
    }
   },
   "outputs": [],
   "source": [
    "f(53)"
   ]
  },
  {
   "cell_type": "code",
   "execution_count": 54,
   "id": "08c84aca",
   "metadata": {
    "execution": {
     "iopub.execute_input": "2023-11-04T13:50:00.480018Z",
     "iopub.status.busy": "2023-11-04T13:50:00.479779Z",
     "iopub.status.idle": "2023-11-04T13:50:00.493175Z",
     "shell.execute_reply": "2023-11-04T13:50:00.492320Z",
     "shell.execute_reply.started": "2023-11-04T13:50:00.479994Z"
    }
   },
   "outputs": [],
   "source": [
    "f(54)"
   ]
  },
  {
   "cell_type": "code",
   "execution_count": 55,
   "id": "9547f5b6",
   "metadata": {
    "execution": {
     "iopub.execute_input": "2023-11-04T13:50:00.494439Z",
     "iopub.status.busy": "2023-11-04T13:50:00.494193Z",
     "iopub.status.idle": "2023-11-04T13:50:00.507346Z",
     "shell.execute_reply": "2023-11-04T13:50:00.506656Z",
     "shell.execute_reply.started": "2023-11-04T13:50:00.494412Z"
    }
   },
   "outputs": [],
   "source": [
    "f(55)"
   ]
  },
  {
   "cell_type": "code",
   "execution_count": 56,
   "id": "d255015d",
   "metadata": {
    "execution": {
     "iopub.execute_input": "2023-11-04T13:50:00.508802Z",
     "iopub.status.busy": "2023-11-04T13:50:00.508480Z",
     "iopub.status.idle": "2023-11-04T13:50:00.522035Z",
     "shell.execute_reply": "2023-11-04T13:50:00.521230Z",
     "shell.execute_reply.started": "2023-11-04T13:50:00.508768Z"
    }
   },
   "outputs": [],
   "source": [
    "f(56)"
   ]
  },
  {
   "cell_type": "code",
   "execution_count": 57,
   "id": "10d1525f",
   "metadata": {
    "execution": {
     "iopub.execute_input": "2023-11-04T13:50:00.523064Z",
     "iopub.status.busy": "2023-11-04T13:50:00.522843Z",
     "iopub.status.idle": "2023-11-04T13:50:00.535856Z",
     "shell.execute_reply": "2023-11-04T13:50:00.535241Z",
     "shell.execute_reply.started": "2023-11-04T13:50:00.523041Z"
    }
   },
   "outputs": [],
   "source": [
    "f(57)"
   ]
  },
  {
   "cell_type": "code",
   "execution_count": 58,
   "id": "4cb9a37b",
   "metadata": {
    "execution": {
     "iopub.execute_input": "2023-11-04T13:50:00.536930Z",
     "iopub.status.busy": "2023-11-04T13:50:00.536712Z",
     "iopub.status.idle": "2023-11-04T13:50:00.549954Z",
     "shell.execute_reply": "2023-11-04T13:50:00.549189Z",
     "shell.execute_reply.started": "2023-11-04T13:50:00.536908Z"
    }
   },
   "outputs": [],
   "source": [
    "f(58)"
   ]
  },
  {
   "cell_type": "code",
   "execution_count": 59,
   "id": "c704190f",
   "metadata": {
    "execution": {
     "iopub.execute_input": "2023-11-04T13:50:00.551060Z",
     "iopub.status.busy": "2023-11-04T13:50:00.550835Z",
     "iopub.status.idle": "2023-11-04T13:50:00.564456Z",
     "shell.execute_reply": "2023-11-04T13:50:00.563405Z",
     "shell.execute_reply.started": "2023-11-04T13:50:00.551036Z"
    }
   },
   "outputs": [],
   "source": [
    "f(59)"
   ]
  },
  {
   "cell_type": "code",
   "execution_count": 60,
   "id": "51c2a0e6",
   "metadata": {
    "execution": {
     "iopub.execute_input": "2023-11-04T13:50:00.565805Z",
     "iopub.status.busy": "2023-11-04T13:50:00.565559Z",
     "iopub.status.idle": "2023-11-04T13:50:00.579321Z",
     "shell.execute_reply": "2023-11-04T13:50:00.578473Z",
     "shell.execute_reply.started": "2023-11-04T13:50:00.565782Z"
    }
   },
   "outputs": [],
   "source": [
    "f(60)"
   ]
  },
  {
   "cell_type": "code",
   "execution_count": 61,
   "id": "148c9f07",
   "metadata": {
    "execution": {
     "iopub.execute_input": "2023-11-04T13:50:00.580558Z",
     "iopub.status.busy": "2023-11-04T13:50:00.580304Z",
     "iopub.status.idle": "2023-11-04T13:50:00.593785Z",
     "shell.execute_reply": "2023-11-04T13:50:00.593045Z",
     "shell.execute_reply.started": "2023-11-04T13:50:00.580535Z"
    }
   },
   "outputs": [],
   "source": [
    "f(61)"
   ]
  },
  {
   "cell_type": "code",
   "execution_count": 62,
   "id": "065cdee3",
   "metadata": {
    "execution": {
     "iopub.execute_input": "2023-11-04T13:50:00.595085Z",
     "iopub.status.busy": "2023-11-04T13:50:00.594835Z",
     "iopub.status.idle": "2023-11-04T13:50:00.608029Z",
     "shell.execute_reply": "2023-11-04T13:50:00.607366Z",
     "shell.execute_reply.started": "2023-11-04T13:50:00.595054Z"
    }
   },
   "outputs": [],
   "source": [
    "f(62)"
   ]
  },
  {
   "cell_type": "code",
   "execution_count": 63,
   "id": "c9f15d4b",
   "metadata": {
    "execution": {
     "iopub.execute_input": "2023-11-04T13:50:00.609440Z",
     "iopub.status.busy": "2023-11-04T13:50:00.608923Z",
     "iopub.status.idle": "2023-11-04T13:50:00.622516Z",
     "shell.execute_reply": "2023-11-04T13:50:00.621852Z",
     "shell.execute_reply.started": "2023-11-04T13:50:00.609402Z"
    }
   },
   "outputs": [],
   "source": [
    "f(63)"
   ]
  },
  {
   "cell_type": "code",
   "execution_count": 64,
   "id": "d5e634aa",
   "metadata": {
    "execution": {
     "iopub.execute_input": "2023-11-04T13:50:00.623618Z",
     "iopub.status.busy": "2023-11-04T13:50:00.623400Z",
     "iopub.status.idle": "2023-11-04T13:50:00.636360Z",
     "shell.execute_reply": "2023-11-04T13:50:00.635741Z",
     "shell.execute_reply.started": "2023-11-04T13:50:00.623597Z"
    }
   },
   "outputs": [],
   "source": [
    "f(64)"
   ]
  },
  {
   "cell_type": "code",
   "execution_count": 65,
   "id": "e4da78a9",
   "metadata": {
    "execution": {
     "iopub.execute_input": "2023-11-04T13:50:00.637333Z",
     "iopub.status.busy": "2023-11-04T13:50:00.637110Z",
     "iopub.status.idle": "2023-11-04T13:50:00.650149Z",
     "shell.execute_reply": "2023-11-04T13:50:00.649415Z",
     "shell.execute_reply.started": "2023-11-04T13:50:00.637310Z"
    }
   },
   "outputs": [],
   "source": [
    "f(65)"
   ]
  },
  {
   "cell_type": "code",
   "execution_count": 66,
   "id": "5d9d2215",
   "metadata": {
    "execution": {
     "iopub.execute_input": "2023-11-04T13:50:00.651467Z",
     "iopub.status.busy": "2023-11-04T13:50:00.651146Z",
     "iopub.status.idle": "2023-11-04T13:50:00.664262Z",
     "shell.execute_reply": "2023-11-04T13:50:00.663524Z",
     "shell.execute_reply.started": "2023-11-04T13:50:00.651443Z"
    }
   },
   "outputs": [],
   "source": [
    "f(66)"
   ]
  },
  {
   "cell_type": "code",
   "execution_count": 67,
   "id": "5dcc3039",
   "metadata": {
    "execution": {
     "iopub.execute_input": "2023-11-04T13:50:00.674412Z",
     "iopub.status.busy": "2023-11-04T13:50:00.674175Z",
     "iopub.status.idle": "2023-11-04T13:50:00.687204Z",
     "shell.execute_reply": "2023-11-04T13:50:00.686467Z",
     "shell.execute_reply.started": "2023-11-04T13:50:00.674389Z"
    }
   },
   "outputs": [],
   "source": [
    "f(67)"
   ]
  },
  {
   "cell_type": "code",
   "execution_count": 68,
   "id": "9611ad89",
   "metadata": {
    "execution": {
     "iopub.execute_input": "2023-11-04T13:50:00.689194Z",
     "iopub.status.busy": "2023-11-04T13:50:00.688206Z",
     "iopub.status.idle": "2023-11-04T13:50:00.702538Z",
     "shell.execute_reply": "2023-11-04T13:50:00.701794Z",
     "shell.execute_reply.started": "2023-11-04T13:50:00.689157Z"
    }
   },
   "outputs": [],
   "source": [
    "f(68)"
   ]
  },
  {
   "cell_type": "code",
   "execution_count": 69,
   "id": "6dad4b13",
   "metadata": {
    "execution": {
     "iopub.execute_input": "2023-11-04T13:50:00.703900Z",
     "iopub.status.busy": "2023-11-04T13:50:00.703666Z",
     "iopub.status.idle": "2023-11-04T13:50:00.716788Z",
     "shell.execute_reply": "2023-11-04T13:50:00.715993Z",
     "shell.execute_reply.started": "2023-11-04T13:50:00.703877Z"
    }
   },
   "outputs": [],
   "source": [
    "f(69)"
   ]
  },
  {
   "cell_type": "code",
   "execution_count": 70,
   "id": "2a3d2d54",
   "metadata": {
    "execution": {
     "iopub.execute_input": "2023-11-04T13:50:00.717976Z",
     "iopub.status.busy": "2023-11-04T13:50:00.717675Z",
     "iopub.status.idle": "2023-11-04T13:50:00.730920Z",
     "shell.execute_reply": "2023-11-04T13:50:00.730168Z",
     "shell.execute_reply.started": "2023-11-04T13:50:00.717942Z"
    }
   },
   "outputs": [],
   "source": [
    "f(70)"
   ]
  },
  {
   "cell_type": "code",
   "execution_count": 71,
   "id": "a32ea6ef",
   "metadata": {
    "execution": {
     "iopub.execute_input": "2023-11-04T13:50:00.732078Z",
     "iopub.status.busy": "2023-11-04T13:50:00.731836Z",
     "iopub.status.idle": "2023-11-04T13:50:00.745889Z",
     "shell.execute_reply": "2023-11-04T13:50:00.745060Z",
     "shell.execute_reply.started": "2023-11-04T13:50:00.732053Z"
    }
   },
   "outputs": [],
   "source": [
    "f(71)"
   ]
  },
  {
   "cell_type": "code",
   "execution_count": 72,
   "id": "9c0478e2",
   "metadata": {
    "execution": {
     "iopub.execute_input": "2023-11-04T13:50:00.746896Z",
     "iopub.status.busy": "2023-11-04T13:50:00.746634Z",
     "iopub.status.idle": "2023-11-04T13:50:00.765013Z",
     "shell.execute_reply": "2023-11-04T13:50:00.763888Z",
     "shell.execute_reply.started": "2023-11-04T13:50:00.746868Z"
    }
   },
   "outputs": [],
   "source": [
    "f(72)"
   ]
  },
  {
   "cell_type": "code",
   "execution_count": 73,
   "id": "263710b3",
   "metadata": {
    "execution": {
     "iopub.execute_input": "2023-11-04T13:50:00.766313Z",
     "iopub.status.busy": "2023-11-04T13:50:00.766039Z",
     "iopub.status.idle": "2023-11-04T13:50:00.779981Z",
     "shell.execute_reply": "2023-11-04T13:50:00.778920Z",
     "shell.execute_reply.started": "2023-11-04T13:50:00.766282Z"
    }
   },
   "outputs": [],
   "source": [
    "f(73)"
   ]
  },
  {
   "cell_type": "code",
   "execution_count": 74,
   "id": "859590ec",
   "metadata": {
    "execution": {
     "iopub.execute_input": "2023-11-04T13:50:00.781119Z",
     "iopub.status.busy": "2023-11-04T13:50:00.780828Z",
     "iopub.status.idle": "2023-11-04T13:50:00.794572Z",
     "shell.execute_reply": "2023-11-04T13:50:00.793631Z",
     "shell.execute_reply.started": "2023-11-04T13:50:00.781089Z"
    }
   },
   "outputs": [],
   "source": [
    "f(74)"
   ]
  },
  {
   "cell_type": "code",
   "execution_count": 75,
   "id": "acf9cab5",
   "metadata": {
    "execution": {
     "iopub.execute_input": "2023-11-04T13:50:00.795645Z",
     "iopub.status.busy": "2023-11-04T13:50:00.795379Z",
     "iopub.status.idle": "2023-11-04T13:50:00.808600Z",
     "shell.execute_reply": "2023-11-04T13:50:00.807877Z",
     "shell.execute_reply.started": "2023-11-04T13:50:00.795615Z"
    }
   },
   "outputs": [],
   "source": [
    "f(75)"
   ]
  },
  {
   "cell_type": "code",
   "execution_count": 76,
   "id": "8f35db64",
   "metadata": {
    "execution": {
     "iopub.execute_input": "2023-11-04T13:50:00.809742Z",
     "iopub.status.busy": "2023-11-04T13:50:00.809522Z",
     "iopub.status.idle": "2023-11-04T13:50:00.822863Z",
     "shell.execute_reply": "2023-11-04T13:50:00.822043Z",
     "shell.execute_reply.started": "2023-11-04T13:50:00.809720Z"
    }
   },
   "outputs": [],
   "source": [
    "f(76)"
   ]
  },
  {
   "cell_type": "code",
   "execution_count": 77,
   "id": "f651529f",
   "metadata": {
    "execution": {
     "iopub.execute_input": "2023-11-04T13:50:00.823872Z",
     "iopub.status.busy": "2023-11-04T13:50:00.823608Z",
     "iopub.status.idle": "2023-11-04T13:50:00.837723Z",
     "shell.execute_reply": "2023-11-04T13:50:00.836581Z",
     "shell.execute_reply.started": "2023-11-04T13:50:00.823844Z"
    }
   },
   "outputs": [],
   "source": [
    "f(77)"
   ]
  },
  {
   "cell_type": "code",
   "execution_count": 78,
   "id": "4c84d27b",
   "metadata": {
    "execution": {
     "iopub.execute_input": "2023-11-04T13:50:00.839396Z",
     "iopub.status.busy": "2023-11-04T13:50:00.839109Z",
     "iopub.status.idle": "2023-11-04T13:50:00.852841Z",
     "shell.execute_reply": "2023-11-04T13:50:00.852010Z",
     "shell.execute_reply.started": "2023-11-04T13:50:00.839365Z"
    }
   },
   "outputs": [],
   "source": [
    "f(78)"
   ]
  },
  {
   "cell_type": "code",
   "execution_count": 79,
   "id": "c2af5042",
   "metadata": {
    "execution": {
     "iopub.execute_input": "2023-11-04T13:50:00.854489Z",
     "iopub.status.busy": "2023-11-04T13:50:00.853869Z",
     "iopub.status.idle": "2023-11-04T13:50:00.867522Z",
     "shell.execute_reply": "2023-11-04T13:50:00.866899Z",
     "shell.execute_reply.started": "2023-11-04T13:50:00.854456Z"
    }
   },
   "outputs": [],
   "source": [
    "f(79)"
   ]
  },
  {
   "cell_type": "code",
   "execution_count": 80,
   "id": "ff761045",
   "metadata": {
    "execution": {
     "iopub.execute_input": "2023-11-04T13:50:00.868548Z",
     "iopub.status.busy": "2023-11-04T13:50:00.868328Z",
     "iopub.status.idle": "2023-11-04T13:50:00.881738Z",
     "shell.execute_reply": "2023-11-04T13:50:00.880738Z",
     "shell.execute_reply.started": "2023-11-04T13:50:00.868526Z"
    }
   },
   "outputs": [],
   "source": [
    "f(80)"
   ]
  },
  {
   "cell_type": "code",
   "execution_count": 81,
   "id": "aa4040b1",
   "metadata": {
    "execution": {
     "iopub.execute_input": "2023-11-04T13:50:00.882847Z",
     "iopub.status.busy": "2023-11-04T13:50:00.882561Z",
     "iopub.status.idle": "2023-11-04T13:50:00.896123Z",
     "shell.execute_reply": "2023-11-04T13:50:00.895408Z",
     "shell.execute_reply.started": "2023-11-04T13:50:00.882817Z"
    }
   },
   "outputs": [],
   "source": [
    "f(81)"
   ]
  },
  {
   "cell_type": "code",
   "execution_count": 82,
   "id": "ab24041b",
   "metadata": {
    "execution": {
     "iopub.execute_input": "2023-11-04T13:50:00.897812Z",
     "iopub.status.busy": "2023-11-04T13:50:00.897468Z",
     "iopub.status.idle": "2023-11-04T13:50:00.911639Z",
     "shell.execute_reply": "2023-11-04T13:50:00.910479Z",
     "shell.execute_reply.started": "2023-11-04T13:50:00.897775Z"
    }
   },
   "outputs": [],
   "source": [
    "f(82)"
   ]
  },
  {
   "cell_type": "code",
   "execution_count": 83,
   "id": "06e01d44",
   "metadata": {
    "execution": {
     "iopub.execute_input": "2023-11-04T13:50:00.913011Z",
     "iopub.status.busy": "2023-11-04T13:50:00.912759Z",
     "iopub.status.idle": "2023-11-04T13:50:00.926046Z",
     "shell.execute_reply": "2023-11-04T13:50:00.925394Z",
     "shell.execute_reply.started": "2023-11-04T13:50:00.912987Z"
    }
   },
   "outputs": [],
   "source": [
    "f(83)"
   ]
  },
  {
   "cell_type": "code",
   "execution_count": 84,
   "id": "8f64cbad",
   "metadata": {
    "execution": {
     "iopub.execute_input": "2023-11-04T13:50:00.927651Z",
     "iopub.status.busy": "2023-11-04T13:50:00.927351Z",
     "iopub.status.idle": "2023-11-04T13:50:00.940782Z",
     "shell.execute_reply": "2023-11-04T13:50:00.940084Z",
     "shell.execute_reply.started": "2023-11-04T13:50:00.927616Z"
    }
   },
   "outputs": [],
   "source": [
    "f(84)"
   ]
  },
  {
   "cell_type": "code",
   "execution_count": 85,
   "id": "d46c0db3",
   "metadata": {
    "execution": {
     "iopub.execute_input": "2023-11-04T13:50:00.941977Z",
     "iopub.status.busy": "2023-11-04T13:50:00.941727Z",
     "iopub.status.idle": "2023-11-04T13:50:00.954810Z",
     "shell.execute_reply": "2023-11-04T13:50:00.954214Z",
     "shell.execute_reply.started": "2023-11-04T13:50:00.941945Z"
    }
   },
   "outputs": [],
   "source": [
    "f(85)"
   ]
  },
  {
   "cell_type": "code",
   "execution_count": 86,
   "id": "f6c6ae82",
   "metadata": {
    "execution": {
     "iopub.execute_input": "2023-11-04T13:50:00.956186Z",
     "iopub.status.busy": "2023-11-04T13:50:00.955933Z",
     "iopub.status.idle": "2023-11-04T13:50:00.969229Z",
     "shell.execute_reply": "2023-11-04T13:50:00.968554Z",
     "shell.execute_reply.started": "2023-11-04T13:50:00.956160Z"
    }
   },
   "outputs": [],
   "source": [
    "f(86)"
   ]
  },
  {
   "cell_type": "code",
   "execution_count": 87,
   "id": "b26b347d",
   "metadata": {
    "execution": {
     "iopub.execute_input": "2023-11-04T13:50:00.970273Z",
     "iopub.status.busy": "2023-11-04T13:50:00.970042Z",
     "iopub.status.idle": "2023-11-04T13:50:00.984288Z",
     "shell.execute_reply": "2023-11-04T13:50:00.983609Z",
     "shell.execute_reply.started": "2023-11-04T13:50:00.970249Z"
    }
   },
   "outputs": [],
   "source": [
    "f(87)"
   ]
  },
  {
   "cell_type": "code",
   "execution_count": 88,
   "id": "84f11847",
   "metadata": {
    "execution": {
     "iopub.execute_input": "2023-11-04T13:50:00.985742Z",
     "iopub.status.busy": "2023-11-04T13:50:00.985273Z",
     "iopub.status.idle": "2023-11-04T13:50:00.998822Z",
     "shell.execute_reply": "2023-11-04T13:50:00.998046Z",
     "shell.execute_reply.started": "2023-11-04T13:50:00.985715Z"
    }
   },
   "outputs": [],
   "source": [
    "f(88)"
   ]
  },
  {
   "cell_type": "code",
   "execution_count": 89,
   "id": "a5c72c4e",
   "metadata": {
    "execution": {
     "iopub.execute_input": "2023-11-04T13:50:01.000251Z",
     "iopub.status.busy": "2023-11-04T13:50:01.000028Z",
     "iopub.status.idle": "2023-11-04T13:50:01.013298Z",
     "shell.execute_reply": "2023-11-04T13:50:01.012578Z",
     "shell.execute_reply.started": "2023-11-04T13:50:01.000229Z"
    }
   },
   "outputs": [],
   "source": [
    "f(89)"
   ]
  },
  {
   "cell_type": "code",
   "execution_count": 90,
   "id": "6a5c1573",
   "metadata": {
    "execution": {
     "iopub.execute_input": "2023-11-04T13:50:01.014417Z",
     "iopub.status.busy": "2023-11-04T13:50:01.014184Z",
     "iopub.status.idle": "2023-11-04T13:50:01.027466Z",
     "shell.execute_reply": "2023-11-04T13:50:01.026617Z",
     "shell.execute_reply.started": "2023-11-04T13:50:01.014389Z"
    }
   },
   "outputs": [],
   "source": [
    "f(90)"
   ]
  },
  {
   "cell_type": "code",
   "execution_count": 91,
   "id": "6d22f181",
   "metadata": {
    "execution": {
     "iopub.execute_input": "2023-11-04T13:50:01.028552Z",
     "iopub.status.busy": "2023-11-04T13:50:01.028324Z",
     "iopub.status.idle": "2023-11-04T13:50:01.041448Z",
     "shell.execute_reply": "2023-11-04T13:50:01.040694Z",
     "shell.execute_reply.started": "2023-11-04T13:50:01.028529Z"
    }
   },
   "outputs": [],
   "source": [
    "f(91)"
   ]
  },
  {
   "cell_type": "code",
   "execution_count": 92,
   "id": "acbb88f3",
   "metadata": {
    "execution": {
     "iopub.execute_input": "2023-11-04T13:50:01.042553Z",
     "iopub.status.busy": "2023-11-04T13:50:01.042331Z",
     "iopub.status.idle": "2023-11-04T13:50:01.055450Z",
     "shell.execute_reply": "2023-11-04T13:50:01.054732Z",
     "shell.execute_reply.started": "2023-11-04T13:50:01.042531Z"
    }
   },
   "outputs": [],
   "source": [
    "f(92)"
   ]
  },
  {
   "cell_type": "code",
   "execution_count": 93,
   "id": "c01dc59e",
   "metadata": {
    "execution": {
     "iopub.execute_input": "2023-11-04T13:50:01.056615Z",
     "iopub.status.busy": "2023-11-04T13:50:01.056363Z",
     "iopub.status.idle": "2023-11-04T13:50:01.069959Z",
     "shell.execute_reply": "2023-11-04T13:50:01.069284Z",
     "shell.execute_reply.started": "2023-11-04T13:50:01.056591Z"
    }
   },
   "outputs": [],
   "source": [
    "f(93)"
   ]
  },
  {
   "cell_type": "code",
   "execution_count": 94,
   "id": "cb96979e",
   "metadata": {
    "execution": {
     "iopub.execute_input": "2023-11-04T13:50:01.071153Z",
     "iopub.status.busy": "2023-11-04T13:50:01.070861Z",
     "iopub.status.idle": "2023-11-04T13:50:01.084368Z",
     "shell.execute_reply": "2023-11-04T13:50:01.083686Z",
     "shell.execute_reply.started": "2023-11-04T13:50:01.071125Z"
    }
   },
   "outputs": [],
   "source": [
    "f(94)"
   ]
  },
  {
   "cell_type": "code",
   "execution_count": 95,
   "id": "35e3f049",
   "metadata": {
    "execution": {
     "iopub.execute_input": "2023-11-04T13:50:01.085686Z",
     "iopub.status.busy": "2023-11-04T13:50:01.085338Z",
     "iopub.status.idle": "2023-11-04T13:50:01.099240Z",
     "shell.execute_reply": "2023-11-04T13:50:01.098184Z",
     "shell.execute_reply.started": "2023-11-04T13:50:01.085662Z"
    }
   },
   "outputs": [],
   "source": [
    "f(95)"
   ]
  },
  {
   "cell_type": "code",
   "execution_count": 96,
   "id": "999b4d98",
   "metadata": {
    "execution": {
     "iopub.execute_input": "2023-11-04T13:50:01.100412Z",
     "iopub.status.busy": "2023-11-04T13:50:01.100155Z",
     "iopub.status.idle": "2023-11-04T13:50:01.113596Z",
     "shell.execute_reply": "2023-11-04T13:50:01.112686Z",
     "shell.execute_reply.started": "2023-11-04T13:50:01.100388Z"
    }
   },
   "outputs": [],
   "source": [
    "f(96)"
   ]
  },
  {
   "cell_type": "code",
   "execution_count": 97,
   "id": "0f99cf3b",
   "metadata": {
    "execution": {
     "iopub.execute_input": "2023-11-04T13:50:01.115389Z",
     "iopub.status.busy": "2023-11-04T13:50:01.115057Z",
     "iopub.status.idle": "2023-11-04T13:50:01.128732Z",
     "shell.execute_reply": "2023-11-04T13:50:01.127923Z",
     "shell.execute_reply.started": "2023-11-04T13:50:01.115354Z"
    }
   },
   "outputs": [],
   "source": [
    "f(97)"
   ]
  },
  {
   "cell_type": "code",
   "execution_count": 98,
   "id": "b14bd7a0",
   "metadata": {
    "execution": {
     "iopub.execute_input": "2023-11-04T13:50:01.130025Z",
     "iopub.status.busy": "2023-11-04T13:50:01.129790Z",
     "iopub.status.idle": "2023-11-04T13:50:01.142974Z",
     "shell.execute_reply": "2023-11-04T13:50:01.142162Z",
     "shell.execute_reply.started": "2023-11-04T13:50:01.130001Z"
    }
   },
   "outputs": [],
   "source": [
    "f(98)"
   ]
  },
  {
   "cell_type": "code",
   "execution_count": 99,
   "id": "b72fd71a",
   "metadata": {
    "execution": {
     "iopub.execute_input": "2023-11-04T13:50:01.144110Z",
     "iopub.status.busy": "2023-11-04T13:50:01.143886Z",
     "iopub.status.idle": "2023-11-04T13:50:01.157301Z",
     "shell.execute_reply": "2023-11-04T13:50:01.156475Z",
     "shell.execute_reply.started": "2023-11-04T13:50:01.144087Z"
    }
   },
   "outputs": [],
   "source": [
    "f(99)"
   ]
  },
  {
   "cell_type": "code",
   "execution_count": 100,
   "id": "742140f8",
   "metadata": {
    "execution": {
     "iopub.execute_input": "2023-11-04T13:50:01.158435Z",
     "iopub.status.busy": "2023-11-04T13:50:01.158211Z",
     "iopub.status.idle": "2023-11-04T13:50:01.171851Z",
     "shell.execute_reply": "2023-11-04T13:50:01.170785Z",
     "shell.execute_reply.started": "2023-11-04T13:50:01.158411Z"
    }
   },
   "outputs": [],
   "source": [
    "f(100)"
   ]
  }
 ],
 "metadata": {
  "kernelspec": {
   "display_name": "Python 3 (ipykernel)",
   "language": "python",
   "name": "python3"
  },
  "language_info": {
   "codemirror_mode": {
    "name": "ipython",
    "version": 3
   },
   "file_extension": ".py",
   "mimetype": "text/x-python",
   "name": "python",
   "nbconvert_exporter": "python",
   "pygments_lexer": "ipython3",
   "version": "3.11.4"
  }
 },
 "nbformat": 4,
 "nbformat_minor": 5
}
